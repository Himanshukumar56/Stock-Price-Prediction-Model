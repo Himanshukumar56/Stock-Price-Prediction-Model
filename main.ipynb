{
 "cells": [
  {
   "cell_type": "code",
   "execution_count": 5,
   "id": "af302758",
   "metadata": {},
   "outputs": [],
   "source": [
    "import numpy as np\n",
    "import pandas as pd\n",
    "import yfinance as yf\n",
    "import matplotlib.pyplot as plt"
   ]
  },
  {
   "cell_type": "code",
   "execution_count": 1,
   "id": "37b2b998",
   "metadata": {},
   "outputs": [],
   "source": [
    "import torch\n",
    "import torch.nn as nn\n",
    "import torch.optim as optim\n",
    "\n",
    "\n",
    "from sklearn.preprocessing import StandardScaler\n",
    "from sklearn.metrics import root_mean_squared_error"
   ]
  },
  {
   "cell_type": "code",
   "execution_count": 2,
   "id": "daa23227",
   "metadata": {},
   "outputs": [],
   "source": [
    "device  = torch.device('cuda' if torch.cuda.is_available() else 'cpu')\n"
   ]
  },
  {
   "cell_type": "code",
   "execution_count": 3,
   "id": "25eebb0c",
   "metadata": {},
   "outputs": [
    {
     "data": {
      "text/plain": [
       "device(type='cpu')"
      ]
     },
     "execution_count": 3,
     "metadata": {},
     "output_type": "execute_result"
    }
   ],
   "source": [
    "device"
   ]
  },
  {
   "cell_type": "code",
   "execution_count": 7,
   "id": "a0f8d693",
   "metadata": {},
   "outputs": [
    {
     "name": "stderr",
     "output_type": "stream",
     "text": [
      "C:\\Users\\himan\\AppData\\Local\\Temp\\ipykernel_17912\\1266454546.py:2: FutureWarning: YF.download() has changed argument auto_adjust default to True\n",
      "  df = yf.download(ticker,'2020-01-01')\n",
      "[*********************100%***********************]  1 of 1 completed\n"
     ]
    }
   ],
   "source": [
    "ticker = 'AAPL'\n",
    "df = yf.download(ticker,'2020-01-01')"
   ]
  },
  {
   "cell_type": "code",
   "execution_count": 8,
   "id": "b04fca27",
   "metadata": {},
   "outputs": [
    {
     "data": {
      "text/html": [
       "<div>\n",
       "<style scoped>\n",
       "    .dataframe tbody tr th:only-of-type {\n",
       "        vertical-align: middle;\n",
       "    }\n",
       "\n",
       "    .dataframe tbody tr th {\n",
       "        vertical-align: top;\n",
       "    }\n",
       "\n",
       "    .dataframe thead tr th {\n",
       "        text-align: left;\n",
       "    }\n",
       "\n",
       "    .dataframe thead tr:last-of-type th {\n",
       "        text-align: right;\n",
       "    }\n",
       "</style>\n",
       "<table border=\"1\" class=\"dataframe\">\n",
       "  <thead>\n",
       "    <tr>\n",
       "      <th>Price</th>\n",
       "      <th>Close</th>\n",
       "      <th>High</th>\n",
       "      <th>Low</th>\n",
       "      <th>Open</th>\n",
       "      <th>Volume</th>\n",
       "    </tr>\n",
       "    <tr>\n",
       "      <th>Ticker</th>\n",
       "      <th>AAPL</th>\n",
       "      <th>AAPL</th>\n",
       "      <th>AAPL</th>\n",
       "      <th>AAPL</th>\n",
       "      <th>AAPL</th>\n",
       "    </tr>\n",
       "    <tr>\n",
       "      <th>Date</th>\n",
       "      <th></th>\n",
       "      <th></th>\n",
       "      <th></th>\n",
       "      <th></th>\n",
       "      <th></th>\n",
       "    </tr>\n",
       "  </thead>\n",
       "  <tbody>\n",
       "    <tr>\n",
       "      <th>2020-01-02</th>\n",
       "      <td>72.620842</td>\n",
       "      <td>72.681289</td>\n",
       "      <td>71.373218</td>\n",
       "      <td>71.627092</td>\n",
       "      <td>135480400</td>\n",
       "    </tr>\n",
       "    <tr>\n",
       "      <th>2020-01-03</th>\n",
       "      <td>71.914833</td>\n",
       "      <td>72.676462</td>\n",
       "      <td>71.689973</td>\n",
       "      <td>71.847133</td>\n",
       "      <td>146322800</td>\n",
       "    </tr>\n",
       "    <tr>\n",
       "      <th>2020-01-06</th>\n",
       "      <td>72.487854</td>\n",
       "      <td>72.526541</td>\n",
       "      <td>70.783256</td>\n",
       "      <td>71.034717</td>\n",
       "      <td>118387200</td>\n",
       "    </tr>\n",
       "    <tr>\n",
       "      <th>2020-01-07</th>\n",
       "      <td>72.146942</td>\n",
       "      <td>72.753823</td>\n",
       "      <td>71.926915</td>\n",
       "      <td>72.497529</td>\n",
       "      <td>108872000</td>\n",
       "    </tr>\n",
       "    <tr>\n",
       "      <th>2020-01-08</th>\n",
       "      <td>73.307518</td>\n",
       "      <td>73.609752</td>\n",
       "      <td>71.849540</td>\n",
       "      <td>71.849540</td>\n",
       "      <td>132079200</td>\n",
       "    </tr>\n",
       "    <tr>\n",
       "      <th>...</th>\n",
       "      <td>...</td>\n",
       "      <td>...</td>\n",
       "      <td>...</td>\n",
       "      <td>...</td>\n",
       "      <td>...</td>\n",
       "    </tr>\n",
       "    <tr>\n",
       "      <th>2025-06-09</th>\n",
       "      <td>201.449997</td>\n",
       "      <td>206.000000</td>\n",
       "      <td>200.020004</td>\n",
       "      <td>204.389999</td>\n",
       "      <td>72862600</td>\n",
       "    </tr>\n",
       "    <tr>\n",
       "      <th>2025-06-10</th>\n",
       "      <td>202.669998</td>\n",
       "      <td>204.350006</td>\n",
       "      <td>200.570007</td>\n",
       "      <td>200.600006</td>\n",
       "      <td>54672600</td>\n",
       "    </tr>\n",
       "    <tr>\n",
       "      <th>2025-06-11</th>\n",
       "      <td>198.779999</td>\n",
       "      <td>204.500000</td>\n",
       "      <td>198.410004</td>\n",
       "      <td>203.500000</td>\n",
       "      <td>60989900</td>\n",
       "    </tr>\n",
       "    <tr>\n",
       "      <th>2025-06-12</th>\n",
       "      <td>199.199997</td>\n",
       "      <td>199.679993</td>\n",
       "      <td>197.360001</td>\n",
       "      <td>199.080002</td>\n",
       "      <td>43904600</td>\n",
       "    </tr>\n",
       "    <tr>\n",
       "      <th>2025-06-13</th>\n",
       "      <td>196.449997</td>\n",
       "      <td>200.369995</td>\n",
       "      <td>195.699997</td>\n",
       "      <td>199.729996</td>\n",
       "      <td>51362400</td>\n",
       "    </tr>\n",
       "  </tbody>\n",
       "</table>\n",
       "<p>1370 rows × 5 columns</p>\n",
       "</div>"
      ],
      "text/plain": [
       "Price            Close        High         Low        Open     Volume\n",
       "Ticker            AAPL        AAPL        AAPL        AAPL       AAPL\n",
       "Date                                                                 \n",
       "2020-01-02   72.620842   72.681289   71.373218   71.627092  135480400\n",
       "2020-01-03   71.914833   72.676462   71.689973   71.847133  146322800\n",
       "2020-01-06   72.487854   72.526541   70.783256   71.034717  118387200\n",
       "2020-01-07   72.146942   72.753823   71.926915   72.497529  108872000\n",
       "2020-01-08   73.307518   73.609752   71.849540   71.849540  132079200\n",
       "...                ...         ...         ...         ...        ...\n",
       "2025-06-09  201.449997  206.000000  200.020004  204.389999   72862600\n",
       "2025-06-10  202.669998  204.350006  200.570007  200.600006   54672600\n",
       "2025-06-11  198.779999  204.500000  198.410004  203.500000   60989900\n",
       "2025-06-12  199.199997  199.679993  197.360001  199.080002   43904600\n",
       "2025-06-13  196.449997  200.369995  195.699997  199.729996   51362400\n",
       "\n",
       "[1370 rows x 5 columns]"
      ]
     },
     "execution_count": 8,
     "metadata": {},
     "output_type": "execute_result"
    }
   ],
   "source": [
    "df"
   ]
  },
  {
   "cell_type": "code",
   "execution_count": 9,
   "id": "2d62be67",
   "metadata": {},
   "outputs": [
    {
     "data": {
      "text/plain": [
       "<Axes: xlabel='Date'>"
      ]
     },
     "execution_count": 9,
     "metadata": {},
     "output_type": "execute_result"
    },
    {
     "data": {
      "image/png": "[encoded data removed]",
      "text/plain": [
       "<Figure size 640x480 with 1 Axes>"
      ]
     },
     "metadata": {},
     "output_type": "display_data"
    }
   ],
   "source": [
    "df.Close.plot()"
   ]
  },
  {
   "cell_type": "code",
   "execution_count": 10,
   "id": "b1edac44",
   "metadata": {},
   "outputs": [],
   "source": [
    "scaler = StandardScaler()\n",
    "\n",
    "df['Close'] = scaler.fit_transform(df['Close'])"
   ]
  },
  {
   "cell_type": "code",
   "execution_count": 11,
   "id": "214c369a",
   "metadata": {},
   "outputs": [
    {
     "data": {
      "text/html": [
       "<div>\n",
       "<style scoped>\n",
       "    .dataframe tbody tr th:only-of-type {\n",
       "        vertical-align: middle;\n",
       "    }\n",
       "\n",
       "    .dataframe tbody tr th {\n",
       "        vertical-align: top;\n",
       "    }\n",
       "\n",
       "    .dataframe thead th {\n",
       "        text-align: right;\n",
       "    }\n",
       "</style>\n",
       "<table border=\"1\" class=\"dataframe\">\n",
       "  <thead>\n",
       "    <tr style=\"text-align: right;\">\n",
       "      <th>Ticker</th>\n",
       "      <th>AAPL</th>\n",
       "    </tr>\n",
       "    <tr>\n",
       "      <th>Date</th>\n",
       "      <th></th>\n",
       "    </tr>\n",
       "  </thead>\n",
       "  <tbody>\n",
       "    <tr>\n",
       "      <th>2020-01-02</th>\n",
       "      <td>-1.909413</td>\n",
       "    </tr>\n",
       "    <tr>\n",
       "      <th>2020-01-03</th>\n",
       "      <td>-1.925322</td>\n",
       "    </tr>\n",
       "    <tr>\n",
       "      <th>2020-01-06</th>\n",
       "      <td>-1.912410</td>\n",
       "    </tr>\n",
       "    <tr>\n",
       "      <th>2020-01-07</th>\n",
       "      <td>-1.920092</td>\n",
       "    </tr>\n",
       "    <tr>\n",
       "      <th>2020-01-08</th>\n",
       "      <td>-1.893939</td>\n",
       "    </tr>\n",
       "    <tr>\n",
       "      <th>...</th>\n",
       "      <td>...</td>\n",
       "    </tr>\n",
       "    <tr>\n",
       "      <th>2025-06-09</th>\n",
       "      <td>0.993661</td>\n",
       "    </tr>\n",
       "    <tr>\n",
       "      <th>2025-06-10</th>\n",
       "      <td>1.021153</td>\n",
       "    </tr>\n",
       "    <tr>\n",
       "      <th>2025-06-11</th>\n",
       "      <td>0.933495</td>\n",
       "    </tr>\n",
       "    <tr>\n",
       "      <th>2025-06-12</th>\n",
       "      <td>0.942959</td>\n",
       "    </tr>\n",
       "    <tr>\n",
       "      <th>2025-06-13</th>\n",
       "      <td>0.880990</td>\n",
       "    </tr>\n",
       "  </tbody>\n",
       "</table>\n",
       "<p>1370 rows × 1 columns</p>\n",
       "</div>"
      ],
      "text/plain": [
       "Ticker          AAPL\n",
       "Date                \n",
       "2020-01-02 -1.909413\n",
       "2020-01-03 -1.925322\n",
       "2020-01-06 -1.912410\n",
       "2020-01-07 -1.920092\n",
       "2020-01-08 -1.893939\n",
       "...              ...\n",
       "2025-06-09  0.993661\n",
       "2025-06-10  1.021153\n",
       "2025-06-11  0.933495\n",
       "2025-06-12  0.942959\n",
       "2025-06-13  0.880990\n",
       "\n",
       "[1370 rows x 1 columns]"
      ]
     },
     "execution_count": 11,
     "metadata": {},
     "output_type": "execute_result"
    }
   ],
   "source": [
    "df.Close"
   ]
  },
  {
   "cell_type": "code",
   "execution_count": null,
   "id": "34b31892",
   "metadata": {},
   "outputs": [],
   "source": [
    "seq_length = 30\n",
    "data = []\n",
    "\n",
    "for i in range(len(df) - seq_length):\n",
    "    data.append(df.Close[i:i+seq_length])\n",
    "\n",
    "data = np.array"
   ]
  },
  {
   "cell_type": "code",
   "execution_count": null,
   "id": "4a165176",
   "metadata": {},
   "outputs": [],
   "source": []
  }
 ],
 "metadata": {
  "kernelspec": {
   "display_name": "Python 3",
   "language": "python",
   "name": "python3"
  },
  "language_info": {
   "codemirror_mode": {
    "name": "ipython",
    "version": 3
   },
   "file_extension": ".py",
   "mimetype": "text/x-python",
   "name": "python",
   "nbconvert_exporter": "python",
   "pygments_lexer": "ipython3",
   "version": "3.12.10"
  }
 },
 "nbformat": 4,
 "nbformat_minor": 5
}
